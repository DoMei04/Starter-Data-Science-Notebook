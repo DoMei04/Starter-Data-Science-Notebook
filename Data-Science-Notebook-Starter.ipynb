{
 "cells": [
  {
   "cell_type": "markdown",
   "id": "9c5e64dc-2bc7-4640-9b71-877eda7b6100",
   "metadata": {},
   "source": [
    "<center>\n",
    "    <img src=\"https://cf-courses-data.s3.us.cloud-object-storage.appdomain.cloud/IBMDeveloperSkillsNetwork-DS0105EN-SkillsNetwork/labs/Module2/images/SN_web_lightmode.png\" width=\"300\" alt=\"cognitiveclass.ai logo\">\n",
    "</center>\n"
   ]
  },
  {
   "cell_type": "markdown",
   "id": "8b126e2f-912e-42e0-8d57-43862ac465fc",
   "metadata": {},
   "source": [
    "# Data Science Information + Notebook features\n"
   ]
  },
  {
   "cell_type": "markdown",
   "metadata": {},
   "source": [
    "#### Introduction\n",
    "This project was created using Jupyter Notebook as part of a hands-on lab activity in the IBM Data Science Course."
   ]
  },
  {
   "cell_type": "markdown",
   "metadata": {},
   "source": [
    "##### Data Science Languages\n",
    "Here’s a list of popular data science languages you can write in your Jupyter Notebook:\n",
    "\n",
    "- Python – Most widely used for data science, supported by libraries like NumPy, Pandas, Matplotlib, Scikit-learn, and TensorFlow.\n",
    "\n",
    "- R – Great for statistical computing and visualization with ggplot2, dplyr, and caret.\n",
    "\n",
    "- Julia – High-performance language for numerical computing and data analysis.\n",
    "\n",
    "- SQL – Used for querying and managing structured data in databases.\n",
    "\n",
    "- Scala – Works with Apache Spark for big data processing.\n",
    "\n",
    "- Java – Sometimes used in big data frameworks like Hadoop and Spark.\n",
    "\n",
    "- C++ – Useful for performance-intensive tasks like deep learning model optimization.\n",
    "\n",
    "- MATLAB – Used in academic and engineering applications for numerical computing.\n",
    "\n",
    "- SAS – A commercial tool for statistical analysis and business intelligence.\n",
    "\n",
    "- JavaScript – Used for data visualization in web applications (e.g., D3.js)."
   ]
  },
  {
   "cell_type": "markdown",
   "metadata": {},
   "source": [
    "##### Data Science Libraries\n",
    "- NumPy\n",
    "\n",
    "- Pandas\n",
    "\n",
    "- Matplotlib\n",
    "\n",
    "- Seaborn\n",
    "\n",
    "- Scikit-learn\n",
    "\n",
    "- TensorFlow\n",
    "\n",
    "- PyTorch"
   ]
  },
  {
   "cell_type": "markdown",
   "metadata": {},
   "source": [
    "##### Data Science Tools \n",
    "\n",
    "| Tool Name      | Purpose                          |\n",
    "|---------------|----------------------------------|\n",
    "| Jupyter Notebook | Interactive coding environment |\n",
    "| RStudio       | IDE for R programming           |\n",
    "| Apache Spark  | Big data processing             |\n",
    "| TensorFlow    | Machine learning framework      |\n",
    "| Power BI      | Data visualization              |"
   ]
  },
  {
   "cell_type": "markdown",
   "metadata": {},
   "source": [
    "##### Arithmetic Expression Examples\n",
    "Arithmetic expressions include basic mathematical operations such as addition, subtraction, multiplication, and division. Examples:\n",
    "- `2 + 3 = 5`\n",
    "\n",
    "- `10 - 4 = 6`\n",
    "\n",
    "- `5 * 3 = 15`\n",
    "\n",
    "- `20 / 4 = 5`"
   ]
  },
  {
   "cell_type": "markdown",
   "metadata": {},
   "source": [
    "##### Multiplication and Addition"
   ]
  },
  {
   "cell_type": "code",
   "execution_count": null,
   "metadata": {},
   "outputs": [
    {
     "name": "stdout",
     "output_type": "stream",
     "text": [
      "Result: 17\n"
     ]
    }
   ],
   "source": [
    "a = 5\n",
    "b = 3\n",
    "result = (a * b) + 2\n",
    "print(\"Result:\", result)"
   ]
  },
  {
   "cell_type": "markdown",
   "metadata": {},
   "source": [
    "##### Convert Minutes to Hours"
   ]
  },
  {
   "cell_type": "code",
   "execution_count": null,
   "metadata": {},
   "outputs": [
    {
     "name": "stdout",
     "output_type": "stream",
     "text": [
      "150 minutes is equal to 2.5 hours\n"
     ]
    }
   ],
   "source": [
    "minutes = 150\n",
    "hours = minutes / 60\n",
    "print(f\"{minutes} minutes is equal to {hours} hours\")"
   ]
  },
  {
   "cell_type": "markdown",
   "metadata": {},
   "source": [
    "##### Objectives\n",
    "- Learn different programming languages for data science.\n",
    "\n",
    "- Understand key libraries used in data science.\n",
    "\n",
    "- Explore essential tools for data analysis and machine learning.\n",
    "\n",
    "- Practice arithmetic expressions in Python.\n",
    "\n",
    "- Convert time units using Python code.\n"
   ]
  },
  {
   "cell_type": "markdown",
   "metadata": {},
   "source": [
    "### Author\n",
    "Emman Manduriaga"
   ]
  },
  {
   "cell_type": "markdown",
   "id": "b5f467ed-efe7-45ac-a08b-b2d48c26ba81",
   "metadata": {},
   "source": [
    "Copyright ©2024 IBM Corporation. All rights reserved.\n"
   ]
  }
 ],
 "metadata": {
  "kernelspec": {
   "display_name": "Python 3",
   "language": "python",
   "name": "python3"
  },
  "language_info": {
   "codemirror_mode": {
    "name": "ipython",
    "version": 3
   },
   "file_extension": ".py",
   "mimetype": "text/x-python",
   "name": "python",
   "nbconvert_exporter": "python",
   "pygments_lexer": "ipython3",
   "version": "3.10.6"
  },
  "prev_pub_hash": "9e1985db9844176462bd1d5863048c9f3d17404bbc6a648be9084b0c42b29347"
 },
 "nbformat": 4,
 "nbformat_minor": 4
}
