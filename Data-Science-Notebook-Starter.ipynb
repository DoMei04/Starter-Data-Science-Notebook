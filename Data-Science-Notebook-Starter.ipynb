{
 "cells": [
  {
   "cell_type": "markdown",
   "id": "9c5e64dc-2bc7-4640-9b71-877eda7b6100",
   "metadata": {},
   "source": [
    "<center>\n",
    "    <img src=\"https://cf-courses-data.s3.us.cloud-object-storage.appdomain.cloud/IBMDeveloperSkillsNetwork-DS0105EN-SkillsNetwork/labs/Module2/images/SN_web_lightmode.png\" width=\"300\" alt=\"cognitiveclass.ai logo\">\n",
    "</center>\n"
   ]
  },
  {
   "cell_type": "markdown",
   "id": "8b126e2f-912e-42e0-8d57-43862ac465fc",
   "metadata": {},
   "source": [
    "# Data Science Information + Notebook features\n"
   ]
  },
  {
   "cell_type": "markdown",
   "metadata": {},
   "source": [
    "#### Introduction\n",
    "This project was created using Jupyter Notebook as part of a hands-on lab activity in the IBM Data Science Course."
   ]
  },
  {
   "cell_type": "markdown",
   "metadata": {},
   "source": [
    "##### Data Science Languages\n",
    "Here’s a list of popular data science languages you can write in your Jupyter Notebook:\n",
    "\n",
    "1. Python – The most widely used language for data science, supported by powerful libraries like NumPy, Pandas, Matplotlib, Scikit-learn, and TensorFlow.\n",
    "\n",
    "2. R – Ideal for statistical computing and data visualization, featuring libraries such as ggplot2, dplyr, and caret.\n",
    "\n",
    "3. SQL – Essential for querying, managing, and analyzing structured data in databases.\n",
    "\n",
    "4. Scala – Commonly used with Apache Spark for big data processing and distributed computing.\n",
    "\n",
    "5. Java – Sometimes utilized in big data frameworks like Hadoop and Spark.\n",
    "\n",
    "6. C++ – Preferred for performance-intensive tasks, including deep learning model optimization.\n",
    "\n",
    "7. Julia – A high-performance language designed for numerical computing and data analysis.\n",
    "\n",
    "8. JavaScript – Frequently used for data visualization in web applications, with libraries like D3.js.\n",
    "\n",
    "9. PHP – Occasionally used in data-driven web applications but not a primary choice for data science.\n",
    "\n",
    "10. Go – Known for its efficiency in handling large-scale data processing and concurrent computing.\n",
    "\n",
    "11. Ruby – Sometimes used in data analysis and web development but less common in data science.\n",
    "\n",
    "12. Visual Basic – Primarily used for legacy applications and business automation rather than data science."
   ]
  },
  {
   "cell_type": "markdown",
   "metadata": {},
   "source": [
    "##### Data Science Libraries\n",
    "NumPy – A fundamental library for numerical computing in Python, providing support for large, multi-dimensional arrays and matrices.\n",
    "\n",
    "Pandas – A powerful library for data manipulation and analysis, offering data structures like DataFrames.\n",
    "\n",
    "Matplotlib – A widely used library for creating static, animated, and interactive visualizations.\n",
    "\n",
    "Seaborn – Built on Matplotlib, it provides a high-level interface for creating visually appealing statistical graphics.\n",
    "\n",
    "Scikit-learn – A machine learning library offering simple and efficient tools for data mining and analysis.\n",
    "\n",
    "Keras – A high-level neural networks API, running on top of TensorFlow, for building and training deep learning models.\n",
    "\n",
    "TensorFlow – An open-source machine learning framework developed by Google, widely used for deep learning.\n",
    "\n",
    "PyTorch – A flexible deep learning framework developed by Facebook, known for its dynamic computation graph.\n",
    "\n",
    "Apache Spark – A distributed computing framework used for large-scale data processing and machine learning.\n",
    "\n",
    "Vegas – A statistical data visualization library for Scala, often used with Apache Spark.\n",
    "\n",
    "BigDL – A deep learning library for Apache Spark, enabling scalable AI applications.\n",
    "\n",
    "ggplot2 – An R-based data visualization package designed for creating elegant and informative graphics."
   ]
  },
  {
   "cell_type": "markdown",
   "metadata": {},
   "source": [
    "##### Data Science Tools \n",
    "\n",
    "| **Tool Name**       | **Purpose**                                                                 |\n",
    "|---------------------|---------------------------------------------------------------------------|\n",
    "| **Anaconda**       | A distribution for Python and R that includes package and environment management for data science. |\n",
    "| **Jupyter Notebook** | An interactive coding environment for writing and executing code, widely used in data science and machine learning. |\n",
    "| **RStudio**        | An IDE for R programming, designed for statistical computing and visualization. |\n",
    "| **Spyder**         | A scientific Python IDE, commonly used for data analysis and machine learning. |\n",
    "| **Zeppelin**       | A web-based notebook for data exploration and visualization, supporting multiple languages, including Scala and Python. |\n"
   ]
  },
  {
   "cell_type": "markdown",
   "metadata": {},
   "source": [
    "##### Arithmetic Expression Examples\n",
    "Arithmetic expressions include basic mathematical operations such as addition, subtraction, multiplication, and division. Examples:\n",
    "- `2 + 3 = 5`\n",
    "\n",
    "- `10 - 4 = 6`\n",
    "\n",
    "- `5 * 3 = 15`\n",
    "\n",
    "- `20 / 4 = 5`"
   ]
  },
  {
   "cell_type": "markdown",
   "metadata": {},
   "source": [
    "##### Multiplication and Addition"
   ]
  },
  {
   "cell_type": "code",
   "execution_count": null,
   "metadata": {},
   "outputs": [
    {
     "name": "stdout",
     "output_type": "stream",
     "text": [
      "Result: 17\n"
     ]
    }
   ],
   "source": [
    "a = 5\n",
    "b = 3\n",
    "result = (a * b) + 2\n",
    "print(\"Result:\", result)"
   ]
  },
  {
   "cell_type": "markdown",
   "metadata": {},
   "source": [
    "##### Convert Minutes to Hours"
   ]
  },
  {
   "cell_type": "code",
   "execution_count": null,
   "metadata": {},
   "outputs": [
    {
     "name": "stdout",
     "output_type": "stream",
     "text": [
      "150 minutes is equal to 2.5 hours\n"
     ]
    }
   ],
   "source": [
    "minutes = 150\n",
    "hours = minutes / 60\n",
    "print(f\"{minutes} minutes is equal to {hours} hours\")"
   ]
  },
  {
   "cell_type": "markdown",
   "metadata": {},
   "source": [
    "##### Objectives\n",
    "- Learn different programming languages for data science.\n",
    "\n",
    "- Understand key libraries used in data science.\n",
    "\n",
    "- Explore essential tools for data analysis and machine learning.\n",
    "\n",
    "- Practice arithmetic expressions in Python.\n",
    "\n",
    "- Convert time units using Python code.\n"
   ]
  },
  {
   "cell_type": "markdown",
   "metadata": {},
   "source": [
    "### Author\n",
    "Emman Manduriaga"
   ]
  },
  {
   "cell_type": "markdown",
   "id": "b5f467ed-efe7-45ac-a08b-b2d48c26ba81",
   "metadata": {},
   "source": [
    "Copyright ©2024 IBM Corporation. All rights reserved.\n"
   ]
  }
 ],
 "metadata": {
  "kernelspec": {
   "display_name": "Python 3",
   "language": "python",
   "name": "python3"
  },
  "language_info": {
   "codemirror_mode": {
    "name": "ipython",
    "version": 3
   },
   "file_extension": ".py",
   "mimetype": "text/x-python",
   "name": "python",
   "nbconvert_exporter": "python",
   "pygments_lexer": "ipython3",
   "version": "3.10.6"
  },
  "prev_pub_hash": "9e1985db9844176462bd1d5863048c9f3d17404bbc6a648be9084b0c42b29347"
 },
 "nbformat": 4,
 "nbformat_minor": 4
}
